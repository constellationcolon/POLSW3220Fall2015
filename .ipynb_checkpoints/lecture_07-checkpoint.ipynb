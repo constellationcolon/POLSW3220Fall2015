{
 "cells": [
  {
   "cell_type": "markdown",
   "metadata": {},
   "source": [
    "# Lecture 7\n",
    "October 1 2015\n",
    "\n",
    "## Test 1\n",
    "Covers everything up till today's material\n",
    "\n",
    "### Format\n",
    "*   Short answer, MCQ, mini essay\n",
    "*   \"Grandparent\" essay: explain without jargon\n",
    "*   Closed book\n",
    "*   Know the examples and their rules\n",
    "\n",
    "## Last Time\n",
    "\n",
    "### Universal Admissibility (U)\n",
    "Should get an outcome regardless of profile\n",
    "\n",
    "### (Weak) Pareto Condition (P)\n",
    "If everybody prefers x to y, then the group must choose x over y\n",
    "\n",
    "Also exists the Strong Pareto Condition\n",
    "\n",
    "Intraprofile comparison\n",
    "\n",
    "### IIA Condition (I)\n",
    "If you have 2 profiles $R$ and $R_1$ that have identical preferences on the xy level then the 2 groups have to choose the same alternative on that level\n",
    "\n",
    "Interprofile comparison\n",
    "\n",
    "#### Formal definition\n",
    "$$\\forall x, y,\\, [(xR_iy \\leftrightarrow xR'_i y) \\cap (y R_i x \\leftrightarrow y R'_i x)] \\rightarrow [(xRy \\leftrightarrow xR'y) \\cap (yRx \\leftrightarrow y R' x)] $$\n",
    "\n",
    "In the example, IIA can allow stuff like person A: xPy, person B: yPx => group outcome: xPy. No need for fairness, just consistency.\n",
    "\n",
    "## Arrovian Dictator\n",
    "Someone that always gets what they want, regardless of what other people want (in the example, just by trying to satisfy conditions U, P, and I).\n",
    "\n",
    "## We don't want a Dictator (D)\n",
    "\n",
    "$\\implies$ All these conditions U, P, I, T, taken together are really powerful.\n",
    "\n",
    "**Taken together, U, P, I, T mean that we cannot satisfy D**"
   ]
  }
 ],
 "metadata": {
  "kernelspec": {
   "display_name": "Python 2",
   "language": "python",
   "name": "python2"
  },
  "language_info": {
   "codemirror_mode": {
    "name": "ipython",
    "version": 2
   },
   "file_extension": ".py",
   "mimetype": "text/x-python",
   "name": "python",
   "nbconvert_exporter": "python",
   "pygments_lexer": "ipython2",
   "version": "2.7.10"
  }
 },
 "nbformat": 4,
 "nbformat_minor": 0
}
