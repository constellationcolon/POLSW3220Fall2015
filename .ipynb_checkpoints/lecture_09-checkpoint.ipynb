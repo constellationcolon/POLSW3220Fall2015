{
 "cells": [
  {
   "cell_type": "markdown",
   "metadata": {},
   "source": [
    "# Lecture 9\n",
    "15th October 15\n",
    "\n",
    "## Midterm\n",
    "\n",
    "### 216 Cells\n",
    "*   P violated: need 1 cell\n",
    "*   T violated: need 1 cell that has cycling\n",
    "*   I violated: need 2 cells\n",
    "*   D violated: need 216 cells\n",
    "*   D not violated: need 1 cell\n",
    "\n",
    "### Plurality Rule and U\n",
    "*   Plurality rule doesn't violate U when there is a tie\n",
    "*   Completeness: when for each pair of alternatives we can say xPy, yPx, or xIy\n",
    "\n",
    "## Social Welfare Function\n",
    "Guarantees transitivity\n",
    "\n",
    "## Method of Majority Rule\n",
    "$\\forall x, y, ~ xRy \\leftrightarrow [ N(xP_iy) \\geq N(yP_ix) ] $\n",
    "\n",
    "e.g. 5: $xPy$, 4: $yPx$ $\\implies xPy$\n",
    "\n",
    "## Universal admissibility\n",
    "\n",
    "## Anonymity ($\\neg$Dictatorship)\n",
    "*   If 2 profiles are identical except that they are shuffled around such that different people now have those preferences, and the group outcome is different, then anonymity is violated\n",
    "*   May be desirable to favour some people's preferences over other people's\n",
    "    *   expertise\n",
    "*   Can violate condiiton I+, but not condition I\n",
    "\n",
    "## Neutrality\n",
    "*   May be desirable to favour some alternatives over others\n",
    "    *   dealth penalty\n",
    "*   Use same method to choose between x and y, y and z, etc.\n",
    "*   Basically condition I+\n",
    "*   Use same method to choose between x and y, and y and x.\n",
    "*   e.g. if p people prefer x and q people prefer y, and we choose x over y, then in the flipped situation where p people prefer y and q people prefer x, then we must choose y.\n",
    "*   If the paired alternative rankings are the same by flipped comparisons, analogy, substitution, etc., then must make the same choice\n",
    "\n",
    "Definition: if we have profiles $R$ and $R'$, then $\\forall xy, wz$,\n",
    "\n",
    "$$\n",
    "\\left[ \\forall i, ~ (xR_iy \\leftrightarrow wR_i'z ) \\cap ( yR_ix \\leftrightarrow zR_i'w ) \\right] \\rightarrow \\left[ (xRy \\leftrightarrow wR'z ) \\cap ( yRx \\leftrightarrow zR'w ) \\right]\n",
    "$$\n",
    "\n",
    "## Monotonicity\n",
    "*   Conditions P, M $\\subset$ Responsiveness\n",
    "*   $\\frac{dy}{dx} \\geq 0 $ monotonic\n",
    "*   $\\frac{dy}{dx} > 0 $ strictly monotonic\n",
    "*   If the number of people who prefer x over y increase, then the group choice should move towards x.\n",
    "    1.  \"shouldn't hurt\"\n",
    "        If certain people move towards x, then the group choice **should not** move towards y instead.\n",
    "    2. \"knife edge\"\n",
    "        If group first says $xIy$, then now some people move towards x, then the group choice should move towards x.\n",
    "\n",
    "$$\n",
    "\\forall x, y ~ \\left[ \\forall i: \\{ (xP_iy \\rightarrow xP_i'y) \\cap (xI_iy \\rightarrow xR_i'y) \\} \\\\\n",
    "\\cap \\exists k: \\{ (xI_ky \\cap xP_k'y) \\cup (yP_kx \\cap xR_k'y) \\}  \\right] \\\\\n",
    "\\rightarrow (xRy \\rightarrow xP'y)\n",
    "$$\n",
    "\n",
    "## Method of Majority Rule satisfies all these conditions\n",
    "May's Theorem: MMR $\\equiv$ UANM"
   ]
  },
  {
   "cell_type": "code",
   "execution_count": null,
   "metadata": {
    "collapsed": true
   },
   "outputs": [],
   "source": []
  }
 ],
 "metadata": {
  "kernelspec": {
   "display_name": "Python 2",
   "language": "python",
   "name": "python2"
  },
  "language_info": {
   "codemirror_mode": {
    "name": "ipython",
    "version": 2
   },
   "file_extension": ".py",
   "mimetype": "text/x-python",
   "name": "python",
   "nbconvert_exporter": "python",
   "pygments_lexer": "ipython2",
   "version": "2.7.10"
  }
 },
 "nbformat": 4,
 "nbformat_minor": 0
}
