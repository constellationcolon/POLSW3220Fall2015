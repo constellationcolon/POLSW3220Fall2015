{
 "cells": [
  {
   "cell_type": "markdown",
   "metadata": {},
   "source": [
    "# Lecture 17\n",
    "November 19, 2015"
   ]
  },
  {
   "cell_type": "markdown",
   "metadata": {},
   "source": [
    "**Notes taken by Ethan Cooper**"
   ]
  },
  {
   "cell_type": "markdown",
   "metadata": {},
   "source": [
    "## Last Time\n",
    "\n",
    "Social choice theory not based on binary choices\n",
    "\n",
    "* plurality rule, borda count"
   ]
  },
  {
   "cell_type": "markdown",
   "metadata": {},
   "source": [
    "## Sophisticated Voting\n",
    "\n",
    "* fixed known agenda, looking ahead\n",
    "* vs. the \"Sincere Voter\"\n",
    "* If sophisticated voter votes one way, even if they weren't being sophisticated and looking ahead, they still might vote in the same way.\n",
    "* Why strategically vote?\n",
    "    * You can affect outcomes.\n",
    "    * But sometimes strategic voting can have a negative effect. Maybe you can manipulate the agenda.\n",
    "* Some systems are subject to violations of things like monotonicity and paradoxes\n",
    "* Can we find something that is strategy proof?\n",
    "    * What would it mean to be strategy proof?\n",
    "    * No profile in which anyone has an incentive to post a false ranking and would only want to post their true ranking."
   ]
  },
  {
   "cell_type": "markdown",
   "metadata": {},
   "source": [
    "## Gibbard–Satterthwaite theorem\n",
    "\n",
    "### Strategy Proof\n",
    "\n",
    "No one has incentive to put their preferences in that are false preferences\n",
    "\n",
    "The only thing that satisfies all these things together\n",
    "\n",
    "*   strategy proof\n",
    "*   U\n",
    "*   **Onto**\n",
    "    * We have a domain, and large, and each outcome can occur under a pair of preferences. Basically, there is no alternative barred from winning. Every alternative has some chance of winning.\n",
    "    * Pareto is a stronger condition than onto. If you satisfy Pareto, you satisfy onto.\n",
    "*   $\\geq 3$ alternatives, $\\geq 3$ individuals\n",
    "*   single winner\n",
    "\n",
    "is dictatorship\n",
    "\n",
    "There is no strategy-proof method that satisfies all of U, onto, and single winner that doesn't entail dictatorship.\n",
    "\n",
    "Most methods are **not** strategy-proof; it is hard to make methods strategy proof."
   ]
  },
  {
   "cell_type": "markdown",
   "metadata": {},
   "source": [
    "## Condorcet Consistent Strategy-Proof Theorem (CC SP Theorem)\n",
    "\n",
    "If preferences are single-peaked, then any condorcet consistent method is strategy-proof.\n",
    "\n",
    "### Example"
   ]
  },
  {
   "cell_type": "code",
   "execution_count": null,
   "metadata": {
    "collapsed": false
   },
   "outputs": [],
   "source": [
    "A B C    Agenda    Sincere Winner\n",
    "= = =    ======    ==============\n",
    "x y z    x y z     z\n",
    "y z x    y z x     x\n",
    "z x y    x z y     y"
   ]
  },
  {
   "cell_type": "markdown",
   "metadata": {},
   "source": [
    "In agenda, if it is $x$ vs $y$ and winner plays $z$, we are thinking about where this will lead. If we put $x$ vs $z$, $z$ wins. If $y$ is against $z$, $y$ wins.\n",
    "\n",
    "So when we say $x$ vs $y$, the question is which do we want winning overall?\n",
    "\n",
    "$A$ and $B$ would vote for $y$ in the $x$ vs $y$ matchup, while $C$ votes for x. $A$ is the one casting the distinctly sophisticated vote."
   ]
  },
  {
   "cell_type": "code",
   "execution_count": null,
   "metadata": {
    "collapsed": false
   },
   "outputs": [],
   "source": [
    "For the agenda x y z,\n",
    "\n",
    "        x vs y\n",
    "         /  \\\n",
    "        x    y\n",
    "       /\\    /\\\n",
    "      x  z  y  z\n",
    "      A BC  AB C"
   ]
  },
  {
   "cell_type": "markdown",
   "metadata": {},
   "source": [
    "* Sophisticated voter does not get around this problem, since there is an agenda that gets us to every single alternative\n",
    "* At the very last stage, everyone's sophisticated and sincere cotes are the same"
   ]
  },
  {
   "cell_type": "markdown",
   "metadata": {},
   "source": [
    "## The Congressional Pay Raise Game\n",
    "\n",
    "* You want to be paid more rather than less, yet you know your constituents don't want you to get more money.\n",
    "* Best case scenario: you vote no and it passes\n",
    "* Worst case scenario: you vote yes and it doesn't pass"
   ]
  },
  {
   "cell_type": "code",
   "execution_count": null,
   "metadata": {
    "collapsed": false
   },
   "outputs": [],
   "source": [
    "Vote    Outcome\n",
    "====    =======\n",
    "N       Y\n",
    "Y       Y\n",
    "N       N\n",
    "Y       N"
   ]
  },
  {
   "cell_type": "markdown",
   "metadata": {},
   "source": [
    "From sophisticated behavior, if there are 7 people, it should be Y, Y, Y, Y, N, N, N.\n",
    "\n",
    "* Best case: vote N, outcome Y.\n",
    "* Second best case: vote Y, outcome Y\n",
    "\n",
    "This is based on voting one by one. Things change when everyone votes at the same time"
   ]
  },
  {
   "cell_type": "markdown",
   "metadata": {},
   "source": [
    "## Successive Agenda\n",
    "\n",
    "Binary agenda with each stage being a binary choice, but different from amendment agenda\n",
    "\n",
    "A single alternative at a time, and we vote it up or down (i.e. say Y or N for an alternative $x$)\n",
    "\n",
    "If we say $Y$, break, else go on to next alternative\n",
    "\n",
    "Difficult for sincere voters. If I say yes to $a$, does that mean I don't like $B$? What if your preferences are $dP_iaP_ib$? Do I want $a$? Well, maybe yes, since you like $a$ more than $b$. But maybe you can say you wouldn't vote for $a$ and would for $d$. So we can't assign defniition of a sincere voter."
   ]
  },
  {
   "cell_type": "markdown",
   "metadata": {},
   "source": [
    "## Example\n",
    "\n",
    "3 judges, $A$, $B$, and $C$ are hearing a criminal case."
   ]
  },
  {
   "cell_type": "code",
   "execution_count": null,
   "metadata": {
    "collapsed": false
   },
   "outputs": [],
   "source": [
    "A B C    \n",
    "= = =\n",
    "D L A    D: Death\n",
    "L A D    L: Life\n",
    "A D L    A: Acquittal\n",
    "    \n",
    "A, B: guilty\n",
    "   C: innocent"
   ]
  },
  {
   "cell_type": "markdown",
   "metadata": {},
   "source": [
    "Status quo system: decide innocence vs guilty, and then punishment\n",
    "\n",
    "* sincere: death\n",
    "* sophisticated: acquittal\n",
    "    * if judges say guilty, like in sincere voting, death is result\n",
    "    * B will cast distinct sophisticated vote and day innocent, since they prefer acquittal to death\n",
    "\n",
    "Raman system: successive agenda of Death, Life, Acquittal"
   ]
  },
  {
   "cell_type": "code",
   "execution_count": null,
   "metadata": {
    "collapsed": false
   },
   "outputs": [],
   "source": [
    "     A,C// \\B\n",
    "       D   L\n",
    "      A,B// \\C\n",
    "         L   A   "
   ]
  },
  {
   "cell_type": "markdown",
   "metadata": {},
   "source": [
    "Starting from the bottom, $L$ would win when comparing $L$ vs $A$. Knowing that, $A$ and $C$ will vote for death, since both prefer death to life. What is ironic is $C$ thinks he is innocent, but still would still vote for death over life.\n",
    "\n",
    "Mandatory sentence system: amendment agenda: decide death or life, then decide whether guilty"
   ]
  }
 ],
 "metadata": {
  "kernelspec": {
   "display_name": "Python 2",
   "language": "python",
   "name": "python2"
  },
  "language_info": {
   "codemirror_mode": {
    "name": "ipython",
    "version": 2
   },
   "file_extension": ".py",
   "mimetype": "text/x-python",
   "name": "python",
   "nbconvert_exporter": "python",
   "pygments_lexer": "ipython2",
   "version": "2.7.10"
  }
 },
 "nbformat": 4,
 "nbformat_minor": 0
}
