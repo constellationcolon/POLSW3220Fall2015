{
 "cells": [
  {
   "cell_type": "markdown",
   "metadata": {},
   "source": [
    "# Lecture 17\n",
    "November 19, 2015\n",
    "\n",
    "## Gibbard–Satterthwaite theorem\n",
    "\n",
    "### Strategy Proof\n",
    "\n",
    "No one has incentive to put their preferences in that are false preferences\n",
    "\n",
    "The only thing that satisfies all these 3 things together\n",
    "\n",
    "*   U\n",
    "*   **Onto** Every alternative has some chance of winning; for each x, one profile exists such that x would win\n",
    "*   $\\geq 3$ alternatives, $\\geq 3$ individuals\n",
    "*   single winner\n",
    "\n",
    "is dictatorship\n",
    "\n",
    "Most methods are **not** strategy-proof; it is hard to make methods strategy proof.\n",
    "\n",
    "### Condorcet Consistent Strategy Proof Theorem\n",
    "\n",
    "\n",
    "## Sophisticated Voting\n",
    "\n",
    "### Voting Agendas\n",
    "\n",
    "#### Example\n",
    "\n",
    "Agenda: x vs. y, winner vs. z"
   ]
  },
  {
   "cell_type": "raw",
   "metadata": {},
   "source": [
    "A B C\n",
    "= = =\n",
    "x y z\n",
    "y z x\n",
    "z x y"
   ]
  },
  {
   "cell_type": "markdown",
   "metadata": {},
   "source": [
    "Sincere voting outcome:"
   ]
  }
 ],
 "metadata": {
  "kernelspec": {
   "display_name": "Python 2",
   "language": "python",
   "name": "python2"
  },
  "language_info": {
   "codemirror_mode": {
    "name": "ipython",
    "version": 2
   },
   "file_extension": ".py",
   "mimetype": "text/x-python",
   "name": "python",
   "nbconvert_exporter": "python",
   "pygments_lexer": "ipython2",
   "version": "2.7.10"
  }
 },
 "nbformat": 4,
 "nbformat_minor": 0
}
