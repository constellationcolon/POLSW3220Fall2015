{
 "cells": [
  {
   "cell_type": "markdown",
   "metadata": {},
   "source": [
    "# Lecture 18\n",
    "December 1, 2015\n",
    "\n",
    "## Last Time\n",
    "**Strategy proof**: Never an incentive to submit false preferences\n",
    "\n",
    "**Condorcet consistent and strategy proof**: if single peaked preferences, then any condorcet consistent method is strategy proof\n",
    "\n",
    "**Successive agenda**: if something gets the majority vote, we stop, or else we keep going.\n",
    "\n",
    "**Sophisticated voters vs. sophisticated votes**: sophisticated voters can cast sophisticated votes, sophisticated votes are just those votes that are cast in the interests of what you would prefer based on predicted outcomes\n",
    "\n",
    "\n",
    "## Example\n",
    "Saturday night massacre???"
   ]
  },
  {
   "cell_type": "code",
   "execution_count": null,
   "metadata": {
    "collapsed": true
   },
   "outputs": [],
   "source": [
    "1   2   3\n",
    "=   =   =\n",
    "K   G   V\n",
    "V   K   B\n",
    "B   V   G\n",
    "G   B   K"
   ]
  },
  {
   "cell_type": "markdown",
   "metadata": {},
   "source": [
    "Successive agenda: BGKV\n",
    "\n",
    "Majority vote"
   ]
  },
  {
   "cell_type": "code",
   "execution_count": null,
   "metadata": {
    "collapsed": true
   },
   "outputs": [],
   "source": [
    "        B\n",
    "        |\n",
    "     Y// \\N\n",
    "      B   G\n",
    "          |\n",
    "       Y// \\N\n",
    "        G   K\n",
    "            |\n",
    "         Y// \\N\n",
    "          K   V "
   ]
  },
  {
   "cell_type": "markdown",
   "metadata": {},
   "source": [
    "Sophisticated voting doesn't save the group from bad outcomes!\n",
    "\n",
    "Everyone wants vacant seat over Borg, but we get Borg over vacant seat because there's no way of committing to not voting for Kennedy when the time comes\n",
    "\n",
    "## Miller's Theorem\n",
    "1977\n",
    "\n",
    "If we're limiting ourselves to binary agendas on which the all alternatives have to appear then anything you can get from sincere voters and an amendment agenda, you can get from sophisticated voters and a successive agenda by flipping the ordering\n",
    "      \n",
    "## P.S.\n",
    "Listen to Nixon secret tapes???"
   ]
  }
 ],
 "metadata": {
  "kernelspec": {
   "display_name": "Python 2",
   "language": "python",
   "name": "python2"
  },
  "language_info": {
   "codemirror_mode": {
    "name": "ipython",
    "version": 2
   },
   "file_extension": ".py",
   "mimetype": "text/x-python",
   "name": "python",
   "nbconvert_exporter": "python",
   "pygments_lexer": "ipython2",
   "version": "2.7.10"
  }
 },
 "nbformat": 4,
 "nbformat_minor": 0
}
