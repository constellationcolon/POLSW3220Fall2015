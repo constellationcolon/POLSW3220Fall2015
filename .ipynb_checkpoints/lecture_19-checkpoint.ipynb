{
 "cells": [
  {
   "cell_type": "markdown",
   "metadata": {},
   "source": [
    "# Lecture 19\n",
    "December 3, 2015\n",
    "\n",
    "\n",
    "## Sen's Paretian Liberalism Paradox\n",
    "\n",
    "Vaccination redux e.g. measles. there is a shortage of vaccines\n",
    "\n",
    "child A and child B\n",
    "\n",
    "alternatives\n",
    "\n",
    "*   a: vaccinate A only\n",
    "*   b: vaccinate B only\n",
    "*   n: neither\n",
    "\n",
    "child A has underlying condition, measles would result in complications\n",
    "\n",
    "family A\n",
    "\n",
    "*   b a n\n",
    "*   decisive between a and n\n",
    "\n",
    "family B\n",
    "\n",
    "*   n b a\n",
    "*   decisive between b and n\n",
    " \n",
    "can we choose neither? a beats n because family A decisive over this pair\n",
    "\n",
    "can't choose b because family B decisive between n and b\n",
    "\n",
    "can't choose a because both families prefer b to a\n",
    "\n",
    "there's a cycle.\n",
    "\n",
    "\n",
    "## Last Time\n",
    "\n",
    "### Successive Agenda\n",
    "Amendment agenda, just that as soon as you get a majority you stop\n",
    "\n",
    "### Miller's Theorem\n",
    "Anything you can get from sincere voters and an amendment agenda, you can get from sophisticated voters and a successive agenda, by just reversing the agenda.\n",
    "\n",
    "#### Example"
   ]
  },
  {
   "cell_type": "code",
   "execution_count": null,
   "metadata": {
    "collapsed": true
   },
   "outputs": [],
   "source": [
    "        B\n",
    "      // \\\n",
    "      B   G\n",
    "        // \\\n",
    "        G   K\n",
    "          // \\\n",
    "          K   V"
   ]
  },
  {
   "cell_type": "markdown",
   "metadata": {},
   "source": [
    "Start from bottom, work way up\n",
    "\n",
    "**When you're starting from the bottom, you are forced to be sincere**\n",
    "\n",
    "## Today\n",
    "\n",
    "Can we say something more about the relationship between preferences? Single peaked preferences?\n",
    "\n",
    "Single peaked preferences sounds like some sort of accident, dependent on how you order them.\n",
    "\n",
    "What if we can quantify in some way our preferences, our preferences lying on some sort of spectrum. e.g. we want policy to be a certain amount of liberal."
   ]
  },
  {
   "cell_type": "code",
   "execution_count": null,
   "metadata": {
    "collapsed": true
   },
   "outputs": [],
   "source": [
    "Liberal <-------------X-----> Conservative\n",
    "                 Ideal point"
   ]
  },
  {
   "cell_type": "markdown",
   "metadata": {},
   "source": [
    "Imagine some distribution \"centered\" at favourite for a certain individual representing their utility.\n",
    "\n",
    "Assume individuals have **ideal points** and **single peaked preferences**.\n",
    "\n",
    "Imagine many distributions along the spectrum for different people with different means and variances.\n",
    "\n",
    "By Black's single peak theorem, MMR will not cycle.\n",
    "\n",
    "### Example\n",
    "\n",
    "Committee (not to scale)"
   ]
  },
  {
   "cell_type": "code",
   "execution_count": null,
   "metadata": {
    "collapsed": true
   },
   "outputs": [],
   "source": [
    "- infinity <-----0---5--------|20|---22------25--------> infinity\n",
    "                / \\ / \\        /\\   /\\      /\\\n",
    "               /   X   \\      /  \\ /  \\    /  \\"
   ]
  },
  {
   "cell_type": "markdown",
   "metadata": {},
   "source": [
    "**Tent utility**\n",
    "\n",
    "*   basically a triangle function\n",
    "*   linear up, linear down\n",
    "*   peak at your ideal point\n",
    "*   **group preference will converge uniquely to 20 under majority rule**\n",
    "*   20 is the median\n",
    "    *   special because your voters are split exactly in half about that point\n",
    "*   no cycling\n",
    "*   know the stable point\n",
    "*   unique because if you put up any other point for vote, the majority of voters will vote for median\n",
    "\n",
    "Makes it very easy to model preferences in politics and economics because **you only need to know what the median preference is**\n",
    "\n",
    "Regardless of shape of utility function, as long as you have single peaked preferences, the median result still holds\n",
    "\n",
    "### Example\n",
    "\n",
    "even voters"
   ]
  },
  {
   "cell_type": "code",
   "execution_count": null,
   "metadata": {
    "collapsed": true
   },
   "outputs": [],
   "source": [
    "- infinity <-----0---5--------18===20---22------25-----> infinity\n",
    "                / \\ / \\       /\\   /\\   /\\      /\\\n",
    "               /   X   \\     /  \\ /  \\ /  \\    /  \\"
   ]
  },
  {
   "cell_type": "markdown",
   "metadata": {},
   "source": [
    "anything between 18 and 20 is stable\n",
    "\n",
    "## Jargon\n",
    "\n",
    "*   **Win set** $w_i(X)$, $w_i(SQ)$ (SQ=status quo), set of points that I strictly prefer to that point.\n",
    "    *   e.g.\n",
    "    *       assume tent utility\n",
    "    *       $w_5(8) = (2,8)$\n",
    "    *       ideal point is 5\n",
    "    *       set of points that I would strictly prefer to 8 is $(2,8)$.\n",
    "    *   e.g. $w_5(9) = (1,9)$\n",
    "    *   e.g. $w_7(9) = (5,9)$\n",
    "*   **Group's win set** $W$\n",
    "    *   going back to previous example\n",
    "    *   preferences peaking at 0, 5, 20, 22, 25\n",
    "    *   status quo at 19\n",
    "    *   $w_0(19) = (-19,19)$\n",
    "    *   $w_5(19) = (-9,19)$\n",
    "    *   $w_{20}(19) = (19,21)$\n",
    "    *   $w_{22}(19) = (19,25)$\n",
    "    *   $w_{25}(19) = (19,31)$\n",
    "    *   $W(19) = (19,21) = ( w_0(19) \\cap w_5(19) \\cap w_{20}(19) \\cap w_{22}(19) \\cap w_{25}(19) ) = w_{20}(19)$\n",
    "    *   group win set is intersection of all individual win sets\n",
    "        *   $W(X) = \\bigcap_i w_i(X)$\n",
    "    *   group win set is also win set of median's individual's win set\n",
    "        *   $W(X) = w_{\\text{median}}(X)$\n",
    "    *   $w_i(X) = \\varnothing \\iff X$ is $i$'s ideal point\n",
    "    *   $W(X) = \\varnothing \\iff X$ is median voter's ideal point (for odd voters)\n",
    "*   The (majority) **Core** is the set of all points with empty (majority rule) win sets\n",
    "    *   **Core** is the set of points stable under majority rule\n",
    "    *   For odd voters, core is a single point\n",
    "    *   For even voters, core is infinite set of points\n",
    "        *   in previous even voters example, **core is [18,20]. Note that this is a closed set, not an open set**.\n",
    "    *   **Core cannot be empty given single peaked preferences**\n",
    "    *   Empty core $\\implies$ no stable points. Can imply cycle, but doesn't guarantee cycling.\n",
    "\n",
    "\n",
    "## Sidenotes\n",
    "7 point partisanship scale"
   ]
  }
 ],
 "metadata": {
  "kernelspec": {
   "display_name": "Python 2",
   "language": "python",
   "name": "python2"
  },
  "language_info": {
   "codemirror_mode": {
    "name": "ipython",
    "version": 2
   },
   "file_extension": ".py",
   "mimetype": "text/x-python",
   "name": "python",
   "nbconvert_exporter": "python",
   "pygments_lexer": "ipython2",
   "version": "2.7.10"
  }
 },
 "nbformat": 4,
 "nbformat_minor": 0
}
