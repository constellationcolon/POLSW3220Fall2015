{
 "cells": [
  {
   "cell_type": "markdown",
   "metadata": {},
   "source": [
    "# Lecture 21\n",
    "\n",
    "December 10, 2015\n",
    "\n",
    "## Last Time\n",
    "\n",
    "What's the point of minimal liberalism?\n",
    "\n",
    "* **Minimal liberalism** Assumes that we, as individuals, have minimally some things completely within our control\n",
    "* A way of potential problems that arise from liberalism, the pareto condition, etc. \n",
    "* There are certain things that we leave completely in the hands of individuals, but there are problems that arise from having such \"local dictators\"\n",
    "* We can run into contradictions where we can't choose any of the alternatives that we are given\n",
    "* Need a deeper theory of \"liberalism\"\n",
    "\n",
    "An empty core doesn't have to mean that there must be cycling. (e.g. unbounded optimum: if we get more of something, then we'll be happier. no core, but no cycling either.)\n",
    "\n",
    "If there is at least one point in the core, then there is at least one point that is stable under majority rule, BUT it doesn't mean that there aren't any cycles lower down.\n",
    "\n",
    "Even voters:"
   ]
  },
  {
   "cell_type": "code",
   "execution_count": null,
   "metadata": {
    "collapsed": true
   },
   "outputs": [],
   "source": [
    "---|----[----------]------|------\n",
    "   A    B          C      D"
   ]
  },
  {
   "cell_type": "markdown",
   "metadata": {},
   "source": [
    "Core is in between voters $B$ and $C$, inclusive.\n",
    "\n",
    "What's the win set with respect to point $z$? The set of points strictly preferred to point $z$. Group win set with respect to point $z$: win set under majority vote. If group win set is empty, then there is no stable point under majority rule.\n",
    "\n",
    "Dimension by dimension median: along each dimension, there is some median. There is always some point that is the dimension by dimension median.\n",
    "\n",
    "**Plott's Theorem** Radial symmetry\n",
    "\n",
    "* If you can pair up voters such that the lines joining the pairs all intersect at a certain point. Don't care about how far apart people are from the center, it's still radial symmetry\n",
    "* Pretty impossible in real life\n",
    "* Why can't it be 3 / 4 / more in the \"pair\"?\n",
    "    * When you have pairs, the line joining the pairs exactly split the \"voter plane\" into two such that the pair is the \"median voter\"\n",
    "\n",
    "* If you have 4 voters; 3 in a triangle's corners, 1 somewhere in the triangle's corners, the one in the centre is the stable point\n",
    "\n",
    "**McKelvey's Chaos Theorem** Without radial symmetry/similar condition, there must be infinite cycling. You can get from one point to any other point via majority vote by just having the right agenda.\n",
    "\n",
    "## Sophisticated voting on the plane\n",
    "\n",
    "Amendment agenda, sincere voters, starting anywhere: McKelvey's Chaos theorem\n",
    "\n",
    "Amendment agenda, sincere voters, starting with status quo: McKelvey's Chaos Theorem\n",
    "\n",
    "Amendment agenda + sincere / sophisticated voters + start / end with status qup = any $\\bar x_1$ type point can win\n",
    "\n",
    "What happens with sophisticated voters, amendment agenda, and starting  with status quo?\n",
    "\n",
    "$\\bar{x}_1$\n",
    "\n",
    "* set of points that beat the status quo, $x_0$\n",
    "* i.e. the group win set with respect to the status quo\n",
    "\n",
    "$\\bar{x}_2$\n",
    "\n",
    "* beats at least one $\\bar{x}_1$ type point, but not the status quo\n",
    "* i.e. for every point in $\\bar{x}_1$, draw the petals diagram with respect to those points. All the points not also in regions covered by the petals diagram for $\\bar{x}_1$ are in $\\bar{x}_2$.\n",
    "\n",
    "### Sophistication\n",
    "\n",
    "Have a choice of agenda: try $x_0, x_1, x_2$"
   ]
  },
  {
   "cell_type": "code",
   "execution_count": null,
   "metadata": {
    "collapsed": true
   },
   "outputs": [],
   "source": [
    "           // \\\n",
    "         x_0   x_1\n",
    "        // \\   / \\\\\n",
    "      x_0 x_2 x_1 x_2"
   ]
  },
  {
   "cell_type": "markdown",
   "metadata": {},
   "source": [
    "$x_0$ wins\n",
    "\n",
    "try $x_0, x_2, x_1$"
   ]
  },
  {
   "cell_type": "code",
   "execution_count": null,
   "metadata": {
    "collapsed": true
   },
   "outputs": [],
   "source": [
    "            / \\\\\n",
    "         x_0   x_2\n",
    "        / \\\\   // \\\n",
    "      x_0 x_1 x_2 x_1"
   ]
  },
  {
   "cell_type": "markdown",
   "metadata": {},
   "source": [
    "the sophisticated voters chose an $\\bar{x}_2$ point over a $\\bar{x}_0$ point; why?\n",
    "\n",
    "There is no way you'd be able to get an $x_0$ type point in this agenda, so you'd get the $\\bar{x}_2$ point\n",
    "\n",
    "BUT you can't apply the same logic in trying to get the voters to agree to an $\\bar{x}_2+++$ type point\n",
    "\n",
    "e.g. draw out tree for $x_0, x_3, x_2, x_1 \\implies x_2$ wins \n",
    "\n",
    "e.g. draw out tree for $x_0, x_2, x_3, x_1 \\implies x_2$ wins\n",
    "\n",
    "The only real leverage, the only credible threat, in this game is the $x_1$ type point, so you can only get as far as an $x_2$ point.\n",
    "\n",
    "This happens because there's no linear transitivity in this. $x_1 > x_0$ and $x_2 > x_1$ but not $x_2 > x_0$."
   ]
  }
 ],
 "metadata": {
  "kernelspec": {
   "display_name": "Python 2",
   "language": "python",
   "name": "python2"
  },
  "language_info": {
   "codemirror_mode": {
    "name": "ipython",
    "version": 2
   },
   "file_extension": ".py",
   "mimetype": "text/x-python",
   "name": "python",
   "nbconvert_exporter": "python",
   "pygments_lexer": "ipython2",
   "version": "2.7.10"
  }
 },
 "nbformat": 4,
 "nbformat_minor": 0
}
